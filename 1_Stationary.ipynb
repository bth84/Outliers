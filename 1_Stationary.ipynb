{
 "cells": [
  {
   "cell_type": "markdown",
   "metadata": {},
   "source": [
    "# Stationary timeseries\n",
    "\n",
    "## Setup"
   ]
  },
  {
   "cell_type": "code",
   "execution_count": null,
   "metadata": {},
   "outputs": [],
   "source": [
    "import numpy as np\n",
    "import pandas as pd\n",
    "import warnings\n",
    "import matplotlib.pyplot as plt\n",
    "from matplotlib import rcParams\n",
    "\n",
    "%matplotlib inline\n",
    "plt.style.use('fivethirtyeight')\n",
    "rcParams['axes.labelsize'] = 14\n",
    "rcParams['xtick.labelsize'] = 12\n",
    "rcParams['ytick.labelsize'] = 12\n",
    "rcParams['text.color'] = 'G'\n",
    "rcParams['figure.figsize'] = 16,8\n",
    "\n",
    "warnings.filterwarnings('ignore')"
   ]
  },
  {
   "cell_type": "code",
   "execution_count": null,
   "metadata": {},
   "outputs": [],
   "source": [
    "def plot(ts, stat=False):\n",
    "    plt.plot(x, ts)\n",
    "    if stat:\n",
    "        plt.plot(x,pd.Series(ts).rolling(25).mean(), '--o', linewidth=2)\n",
    "        plt.plot(x,pd.Series(ts).rolling(25).std(), '--r', linewidth=3)\n",
    "        plt.plot(x,-pd.Series(ts).rolling(25).std(), '--r', linewidth=3)\n",
    "    plt.show()"
   ]
  },
  {
   "cell_type": "markdown",
   "metadata": {},
   "source": [
    "## Creating an artifical timeseries\n",
    "We create different components and add them up:\n",
    "\n",
    "- a trend: logarithmic\n",
    "- noise: gaussian distributed\n",
    "- seasonality: sinoid"
   ]
  },
  {
   "cell_type": "code",
   "execution_count": null,
   "metadata": {},
   "outputs": [],
   "source": [
    "x = np.arange(400)\n",
    "ts = np.random.normal(loc=0, scale=.5, size=x.shape)\n",
    "trend = np.log(x/100)\n",
    "trend[0] = 0\n",
    "seasonality = np.sin(x/10)"
   ]
  },
  {
   "cell_type": "markdown",
   "metadata": {},
   "source": [
    "# Types of stationary\n",
    "\n",
    "### strict stationary\n",
    "Mean, variance & covariance are independent from time (not a function of _t_). Most outlier detections mathematically require this!"
   ]
  },
  {
   "cell_type": "code",
   "execution_count": null,
   "metadata": {},
   "outputs": [],
   "source": [
    "plot(ts)"
   ]
  },
  {
   "cell_type": "markdown",
   "metadata": {},
   "source": [
    "### trend stationary\n",
    "A timeseries with a **time-dependent mean** is considered to be trend stationary, that means the absence of a unit root. Therefore, KPSS tests for trend stationary."
   ]
  },
  {
   "cell_type": "code",
   "execution_count": null,
   "metadata": {},
   "outputs": [],
   "source": [
    "plot(ts + trend)"
   ]
  },
  {
   "cell_type": "markdown",
   "metadata": {},
   "source": [
    "### difference stationary\n",
    "If a timeserience can be made strict stationary by differencing, it is called difference stationary. ADF tests for this property."
   ]
  },
  {
   "cell_type": "code",
   "execution_count": null,
   "metadata": {},
   "outputs": [],
   "source": [
    "plot(ts+seasonality)"
   ]
  },
  {
   "cell_type": "markdown",
   "metadata": {},
   "source": [
    "# 1. Augmented-Dickey-Fuller Test (ADF)\n",
    "\n",
    "## Theory\n",
    "If the test statistic is less than the critical value, we can reject the null hypothesis \n",
    "=> \n",
    "The series is difference stationary! Use **differencing to make series stationary**.\n",
    "\n",
    "**Null Hypothesis**: The series has a unit root (value of a =1)\n",
    "\n",
    "**Alternate Hypothesis:** The series has no unit root.\n",
    "\n",
    "Further Resources:\n",
    "- [Statistical Background](https://en.wikipedia.org/wiki/Augmented_Dickey%E2%80%93Fuller_test)\n",
    "- [Python usage](https://www.statsmodels.org/stable/generated/statsmodels.tsa.stattools.adfuller.html)\n",
    "- [R usage](https://www.rdocumentation.org/packages/aTSA/versions/3.1.2/topics/adf.test)\n",
    "\n",
    "## Code"
   ]
  },
  {
   "cell_type": "code",
   "execution_count": null,
   "metadata": {},
   "outputs": [],
   "source": [
    "from statsmodels.tsa.stattools import adfuller\n",
    "\n",
    "adfuller((ts+trend), autolag='AIC')"
   ]
  },
  {
   "cell_type": "markdown",
   "metadata": {},
   "source": [
    "# 2. Kwiatkowski-Phillips-Schmidt-Shin Test (KPSS)\n",
    "\n",
    "## Theory\n",
    "The null and alternate hypothesis for the KPSS test are opposite that of the ADF test, which often creates confusion.\n",
    "\n",
    "If the test statistic is less than the critical value, we fail to reject the null hypothesis (series is stationary).\n",
    "=> \n",
    "The series is difference stationary! Use **differencing to make series stationary**.\n",
    "\n",
    "**Null Hypothesis**: The process is trend stationary.\n",
    "\n",
    "**Alternate Hypothesis:** The series has a unit root (series is not stationary).\n",
    "\n",
    "Further Resources:\n",
    "- [Statistical Background](https://www.statisticshowto.com/kpss-test/)\n",
    "- [Python usage](https://www.statsmodels.org/stable/generated/statsmodels.tsa.stattools.kpss.html)\n",
    "- [R usage](https://www.rdocumentation.org/packages/tseries/versions/0.10-47/topics/kpss.test)\n",
    "\n",
    "## Code"
   ]
  },
  {
   "cell_type": "code",
   "execution_count": null,
   "metadata": {},
   "outputs": [],
   "source": [
    "from statsmodels.tsa.stattools import kpss\n",
    "\n",
    "kpss(ts+seasonality)"
   ]
  },
  {
   "cell_type": "markdown",
   "metadata": {},
   "source": [
    "## All stacked effects "
   ]
  },
  {
   "cell_type": "code",
   "execution_count": null,
   "metadata": {},
   "outputs": [],
   "source": [
    "plot(ts + trend + seasonality)"
   ]
  },
  {
   "cell_type": "markdown",
   "metadata": {},
   "source": [
    "### ADF"
   ]
  },
  {
   "cell_type": "code",
   "execution_count": null,
   "metadata": {},
   "outputs": [],
   "source": [
    "adfuller(ts+trend+seasonality)"
   ]
  },
  {
   "cell_type": "markdown",
   "metadata": {},
   "source": [
    "### KPSS"
   ]
  },
  {
   "cell_type": "code",
   "execution_count": null,
   "metadata": {},
   "outputs": [],
   "source": [
    "kpss(ts+trend+seasonality)"
   ]
  },
  {
   "cell_type": "markdown",
   "metadata": {},
   "source": [
    "# 3. Conclusions\n",
    "\n",
    "_ADF_ means, that the ADF-Test concludes, that the series is stationary.\n",
    "\n",
    "_KPSS_ means, that the KPSS-Test concludes, that the series is stationary.\n",
    "\n",
    "_$\\neg$ADF_ means, that the ADF-Test concludes, that the series is **not** stationary\n",
    "\n",
    "_ADF $\\land$ KPSS_ means, that ADF **and** KPSS conclude stationary.\n",
    "\n",
    "- **$\\neg$ADF $\\land$ $\\neg$KPSS** $\\Rightarrow$ Series not stationary\n",
    "- **ADF $\\land$ KPSS** $\\Rightarrow$ Series is stationary\n",
    "- **ADF $\\land$ $\\neg$KPSS** $\\Rightarrow$ Series is **difference** stationary, use differencing to render timeseries (strict) stationary\n",
    "- **$\\neg$ADF $\\land$ KPSS** $\\Rightarrow$ Series is **trend** stationary, remove trend to render timeseries (strict) stationary"
   ]
  },
  {
   "cell_type": "markdown",
   "metadata": {},
   "source": [
    "# 4. Methods for rendering a timeseries stationary\n",
    "\n",
    "## 4.1 Transforming\n",
    "\n",
    "Applying functions and/or combinations of functions to the timeseries itself, e.g.\n",
    "- log(ts)\n",
    "- exp(ts)\n",
    "- 1/ts\n",
    "- sqrt(ts)\n",
    "- etc."
   ]
  },
  {
   "cell_type": "code",
   "execution_count": null,
   "metadata": {},
   "outputs": [],
   "source": [
    "plot(np.exp(ts + trend)/(ts+trend))"
   ]
  },
  {
   "cell_type": "markdown",
   "metadata": {},
   "source": [
    "## 4.2 Differencing\n",
    "\n",
    "#### ts'(t) = ts(t) - ts(t-1)\n",
    "\n",
    "Where ts(t) is the value of ts at timestamp t."
   ]
  },
  {
   "cell_type": "code",
   "execution_count": null,
   "metadata": {},
   "outputs": [],
   "source": [
    "plt.plot(x[:-1],(ts+seasonality)[1:] - (ts+seasonality)[:-1])\n",
    "plt.show()"
   ]
  },
  {
   "cell_type": "markdown",
   "metadata": {},
   "source": [
    "## 4.3 Seasonal Differencing\n",
    "\n",
    "#### ts'(t) = ts(t) - ts(t-n)\n",
    "\n",
    "We add a lag _n_ to the shift which shall be at the same value we assume the seasonality to be."
   ]
  },
  {
   "cell_type": "code",
   "execution_count": null,
   "metadata": {},
   "outputs": [],
   "source": [
    "lag = int(round(np.pi * 10 * 2, 0))\n",
    "plt.plot(x,np.pad((ts+seasonality)[lag:] - (ts+seasonality)[:-lag], lag)[:-lag])\n",
    "plt.show()"
   ]
  },
  {
   "cell_type": "markdown",
   "metadata": {},
   "source": [
    "# 5. a real example\n"
   ]
  },
  {
   "cell_type": "code",
   "execution_count": null,
   "metadata": {},
   "outputs": [],
   "source": [
    "import pandas as pd\n",
    "import matplotlib.pyplot as plt\n",
    "%matplotlib inline\n",
    "\n",
    "#reading the dataset\n",
    "train = pd.read_csv('AirPassengers.csv')\n",
    "\n",
    "#preprocessing\n",
    "train.timestamp = pd.to_datetime(train.Month , format = '%Y-%m')\n",
    "train.index = train.timestamp\n",
    "train.drop('Month',axis = 1, inplace = True)\n",
    "\n",
    "#looking at the first few rows\n",
    "train.tail()"
   ]
  },
  {
   "cell_type": "code",
   "execution_count": null,
   "metadata": {},
   "outputs": [],
   "source": [
    "train['#Passengers'].plot(figsize=(12,8))"
   ]
  },
  {
   "cell_type": "markdown",
   "metadata": {},
   "source": [
    "## Simple differencing"
   ]
  },
  {
   "cell_type": "code",
   "execution_count": null,
   "metadata": {},
   "outputs": [],
   "source": [
    "train['#Passengers_diff'] = train['#Passengers'].diff()\n",
    "train['#Passengers_diff'].dropna().plot(figsize=(12,8))"
   ]
  },
  {
   "cell_type": "markdown",
   "metadata": {},
   "source": [
    "## log-transform and differencing"
   ]
  },
  {
   "cell_type": "code",
   "execution_count": null,
   "metadata": {},
   "outputs": [],
   "source": [
    "train['#Passengers_log'] = np.log(train['#Passengers'])\n",
    "train['#Passengers_log_diff'] = train['#Passengers_log'].diff()\n",
    "train['#Passengers_log_diff'].dropna().plot(figsize=(12,8))"
   ]
  },
  {
   "cell_type": "code",
   "execution_count": null,
   "metadata": {},
   "outputs": [],
   "source": []
  }
 ],
 "metadata": {
  "kernelspec": {
   "display_name": "Python 3",
   "language": "python",
   "name": "python3"
  },
  "language_info": {
   "codemirror_mode": {
    "name": "ipython",
    "version": 3
   },
   "file_extension": ".py",
   "mimetype": "text/x-python",
   "name": "python",
   "nbconvert_exporter": "python",
   "pygments_lexer": "ipython3",
   "version": "3.7.6"
  }
 },
 "nbformat": 4,
 "nbformat_minor": 4
}
